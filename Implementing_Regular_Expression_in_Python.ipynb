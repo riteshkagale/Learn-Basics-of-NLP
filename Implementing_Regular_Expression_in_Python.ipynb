{
  "nbformat": 4,
  "nbformat_minor": 0,
  "metadata": {
    "colab": {
      "name": "Implementing Regular Expression in Python.ipynb",
      "provenance": []
    },
    "kernelspec": {
      "name": "python3",
      "display_name": "Python 3"
    }
  },
  "cells": [
    {
      "cell_type": "code",
      "metadata": {
        "id": "bUeXH8jrPim3",
        "outputId": "c7762909-6bf4-4c18-de77-b60cc6a81b71",
        "colab": {
          "base_uri": "https://localhost:8080/",
          "height": 34
        }
      },
      "source": [
        "import re\n",
        "\n",
        "string = \"Tiger is the national animal of india\"\n",
        "pattern = \"Tiger\"\n",
        "\n",
        "mo = re.match(pattern, string)\n",
        "print(mo)"
      ],
      "execution_count": null,
      "outputs": [
        {
          "output_type": "stream",
          "text": [
            "<_sre.SRE_Match object; span=(0, 5), match='Tiger'>\n"
          ],
          "name": "stdout"
        }
      ]
    },
    {
      "cell_type": "code",
      "metadata": {
        "id": "0xK-YTzyXaVm",
        "outputId": "76d10ae3-cb0c-48a5-ed0f-98dea7494408",
        "colab": {
          "base_uri": "https://localhost:8080/",
          "height": 34
        }
      },
      "source": [
        "import re\n",
        "\n",
        "string = \"Tiger is the national animal of india\"\n",
        "pattern2 = \"lion\"\n",
        "\n",
        "mo = re.match(pattern2, string)\n",
        "print(mo)"
      ],
      "execution_count": null,
      "outputs": [
        {
          "output_type": "stream",
          "text": [
            "None\n"
          ],
          "name": "stdout"
        }
      ]
    },
    {
      "cell_type": "code",
      "metadata": {
        "id": "S3IqYQ3SXjwJ",
        "outputId": "3613d613-463a-4eae-821e-a5c00ecd8189",
        "colab": {
          "base_uri": "https://localhost:8080/",
          "height": 34
        }
      },
      "source": [
        "import re\n",
        "\n",
        "string = \"Tiger is the national animal of india\"\n",
        "pattern3 = \"national\"\n",
        "\n",
        "mo = re.match(pattern3, string)\n",
        "print(mo)"
      ],
      "execution_count": null,
      "outputs": [
        {
          "output_type": "stream",
          "text": [
            "None\n"
          ],
          "name": "stdout"
        }
      ]
    },
    {
      "cell_type": "code",
      "metadata": {
        "id": "SQuU-Wp7Xrre",
        "outputId": "2da918b8-d158-4009-a249-2f9c0a93d262",
        "colab": {
          "base_uri": "https://localhost:8080/",
          "height": 34
        }
      },
      "source": [
        "mo = re.search(pattern3, string)\n",
        "print(mo)\n"
      ],
      "execution_count": null,
      "outputs": [
        {
          "output_type": "stream",
          "text": [
            "<_sre.SRE_Match object; span=(13, 21), match='national'>\n"
          ],
          "name": "stdout"
        }
      ]
    },
    {
      "cell_type": "code",
      "metadata": {
        "id": "JBT4ZcvUX6zK",
        "outputId": "c7c8a5dc-5dc8-40b8-8a5f-fafbaf59f4a2",
        "colab": {
          "base_uri": "https://localhost:8080/",
          "height": 34
        }
      },
      "source": [
        "print(mo.group(0))"
      ],
      "execution_count": null,
      "outputs": [
        {
          "output_type": "stream",
          "text": [
            "national\n"
          ],
          "name": "stdout"
        }
      ]
    },
    {
      "cell_type": "code",
      "metadata": {
        "id": "22JsTZPCYDIn",
        "outputId": "30d0bbe5-437a-41a8-f77f-faef3f06c89d",
        "colab": {
          "base_uri": "https://localhost:8080/",
          "height": 34
        }
      },
      "source": [
        "import re\n",
        "\n",
        "string = \"Tiger is the national animal of india and national sports is hockey\"\n",
        "pattern4 = \"national\"\n",
        "\n",
        "mo = re.findall(pattern4, string)\n",
        "print(mo)"
      ],
      "execution_count": null,
      "outputs": [
        {
          "output_type": "stream",
          "text": [
            "['national', 'national']\n"
          ],
          "name": "stdout"
        }
      ]
    },
    {
      "cell_type": "code",
      "metadata": {
        "id": "hXJ8t65zYQWz",
        "outputId": "02d2fd61-5a4d-4166-cb96-bbb4129d1adc",
        "colab": {
          "base_uri": "https://localhost:8080/",
          "height": 50
        }
      },
      "source": [
        "mo = re.finditer(pattern4, string)\n",
        "#gives the indexes  \n",
        "for m in mo:\n",
        "  print(m.start())"
      ],
      "execution_count": null,
      "outputs": [
        {
          "output_type": "stream",
          "text": [
            "13\n",
            "42\n"
          ],
          "name": "stdout"
        }
      ]
    },
    {
      "cell_type": "code",
      "metadata": {
        "id": "InWhgiVoYuQy",
        "outputId": "a4f774bc-64a9-4cfa-d7a9-cdc04071055f",
        "colab": {
          "base_uri": "https://localhost:8080/",
          "height": 34
        }
      },
      "source": [
        "string = \"Ritesh was born on 03-05-1993 and he was admitted to school on 04-06-1997\"\n",
        "pattern = \"\\d{2}-\\d{2}-\\d{4}\"\n",
        "\n",
        "mo = re.findall(pattern, string)\n",
        "print(mo)"
      ],
      "execution_count": null,
      "outputs": [
        {
          "output_type": "stream",
          "text": [
            "['03-05-1993', '04-06-1997']\n"
          ],
          "name": "stdout"
        }
      ]
    },
    {
      "cell_type": "code",
      "metadata": {
        "id": "K6Treo2aZU4y",
        "outputId": "3d2e79cf-61e8-4333-d171-5d8df70f2a70",
        "colab": {
          "base_uri": "https://localhost:8080/",
          "height": 34
        }
      },
      "source": [
        "print(re.sub(pattern, \"Saturday\", string))"
      ],
      "execution_count": null,
      "outputs": [
        {
          "output_type": "stream",
          "text": [
            "Ritesh was born on Saturday and he was admitted to school on Saturday\n"
          ],
          "name": "stdout"
        }
      ]
    },
    {
      "cell_type": "code",
      "metadata": {
        "id": "RXWMHxd7ZhOi"
      },
      "source": [
        ""
      ],
      "execution_count": null,
      "outputs": []
    }
  ]
}