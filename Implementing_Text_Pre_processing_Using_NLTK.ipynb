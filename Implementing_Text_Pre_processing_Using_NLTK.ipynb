{
  "nbformat": 4,
  "nbformat_minor": 0,
  "metadata": {
    "colab": {
      "name": "Implementing Text Pre-processing Using NLTK.ipynb",
      "provenance": []
    },
    "kernelspec": {
      "name": "python3",
      "display_name": "Python 3"
    }
  },
  "cells": [
    {
      "cell_type": "code",
      "metadata": {
        "id": "1hs-quaJdMAj",
        "outputId": "7f582182-20d2-43b2-b8ce-82f350065f25",
        "colab": {
          "base_uri": "https://localhost:8080/",
          "height": 67
        }
      },
      "source": [
        "import nltk\n",
        "nltk.download(\"punkt\")"
      ],
      "execution_count": null,
      "outputs": [
        {
          "output_type": "stream",
          "text": [
            "[nltk_data] Downloading package punkt to /root/nltk_data...\n",
            "[nltk_data]   Package punkt is already up-to-date!\n"
          ],
          "name": "stdout"
        },
        {
          "output_type": "execute_result",
          "data": {
            "text/plain": [
              "True"
            ]
          },
          "metadata": {
            "tags": []
          },
          "execution_count": 1
        }
      ]
    },
    {
      "cell_type": "code",
      "metadata": {
        "id": "4z6X3NWigSke",
        "outputId": "76bafa50-62f7-4ef4-8c67-f7eb29a854ca",
        "colab": {
          "base_uri": "https://localhost:8080/",
          "height": 67
        }
      },
      "source": [
        "nltk.download('wordnet')"
      ],
      "execution_count": null,
      "outputs": [
        {
          "output_type": "stream",
          "text": [
            "[nltk_data] Downloading package wordnet to /root/nltk_data...\n",
            "[nltk_data]   Package wordnet is already up-to-date!\n"
          ],
          "name": "stdout"
        },
        {
          "output_type": "execute_result",
          "data": {
            "text/plain": [
              "True"
            ]
          },
          "metadata": {
            "tags": []
          },
          "execution_count": 2
        }
      ]
    },
    {
      "cell_type": "code",
      "metadata": {
        "id": "tZSWyUGdg9V4",
        "outputId": "a18caec6-1f26-40e1-c3df-515f4c6e6b51",
        "colab": {
          "base_uri": "https://localhost:8080/",
          "height": 84
        }
      },
      "source": [
        "nltk.download('averaged_perceptron_tagger')"
      ],
      "execution_count": null,
      "outputs": [
        {
          "output_type": "stream",
          "text": [
            "[nltk_data] Downloading package averaged_perceptron_tagger to\n",
            "[nltk_data]     /root/nltk_data...\n",
            "[nltk_data]   Unzipping taggers/averaged_perceptron_tagger.zip.\n"
          ],
          "name": "stdout"
        },
        {
          "output_type": "execute_result",
          "data": {
            "text/plain": [
              "True"
            ]
          },
          "metadata": {
            "tags": []
          },
          "execution_count": 3
        }
      ]
    },
    {
      "cell_type": "code",
      "metadata": {
        "id": "iJ_4Rzhld15e",
        "outputId": "dc549412-0b5e-4c0c-ca59-3be367fcebe1",
        "colab": {
          "base_uri": "https://localhost:8080/",
          "height": 67
        }
      },
      "source": [
        "##Tokenization\n",
        "from nltk.tokenize import sent_tokenize\n",
        "text = \"Hi Ritesh, How are you doing? I will be travelling to your city. Lets catchup\"\n",
        "\n",
        "sent_tokenize(text)"
      ],
      "execution_count": null,
      "outputs": [
        {
          "output_type": "execute_result",
          "data": {
            "text/plain": [
              "['Hi Ritesh, How are you doing?',\n",
              " 'I will be travelling to your city.',\n",
              " 'Lets catchup']"
            ]
          },
          "metadata": {
            "tags": []
          },
          "execution_count": 4
        }
      ]
    },
    {
      "cell_type": "code",
      "metadata": {
        "id": "R-0AReT9eaiv",
        "outputId": "f4710d56-bdf9-4bdf-fe83-488db9cd8b7f",
        "colab": {
          "base_uri": "https://localhost:8080/",
          "height": 319
        }
      },
      "source": [
        "##Tokenization\n",
        "from nltk.tokenize import word_tokenize\n",
        "text = \"Hi Ritesh, How are you doing? I will be travelling to your city. Lets catchup\"\n",
        "\n",
        "word_tokenize(text)"
      ],
      "execution_count": null,
      "outputs": [
        {
          "output_type": "execute_result",
          "data": {
            "text/plain": [
              "['Hi',\n",
              " 'Ritesh',\n",
              " ',',\n",
              " 'How',\n",
              " 'are',\n",
              " 'you',\n",
              " 'doing',\n",
              " '?',\n",
              " 'I',\n",
              " 'will',\n",
              " 'be',\n",
              " 'travelling',\n",
              " 'to',\n",
              " 'your',\n",
              " 'city',\n",
              " '.',\n",
              " 'Lets',\n",
              " 'catchup']"
            ]
          },
          "metadata": {
            "tags": []
          },
          "execution_count": 5
        }
      ]
    },
    {
      "cell_type": "code",
      "metadata": {
        "id": "o0rHpLt-efC9",
        "outputId": "af15a8b5-53ec-4353-d86e-fd3b7b73c4b1",
        "colab": {
          "base_uri": "https://localhost:8080/",
          "height": 34
        }
      },
      "source": [
        "##Stemming\n",
        "from nltk.stem import PorterStemmer\n",
        "\n",
        "stemmer = PorterStemmer()\n",
        "\n",
        "print(stemmer.stem(\"playing\"))"
      ],
      "execution_count": null,
      "outputs": [
        {
          "output_type": "stream",
          "text": [
            "play\n"
          ],
          "name": "stdout"
        }
      ]
    },
    {
      "cell_type": "code",
      "metadata": {
        "id": "GEGetdSnfXSR",
        "outputId": "a3bf93b4-5afc-470f-b615-b503728d121d",
        "colab": {
          "base_uri": "https://localhost:8080/",
          "height": 34
        }
      },
      "source": [
        "print(stemmer.stem(\"running\"))"
      ],
      "execution_count": null,
      "outputs": [
        {
          "output_type": "stream",
          "text": [
            "run\n"
          ],
          "name": "stdout"
        }
      ]
    },
    {
      "cell_type": "code",
      "metadata": {
        "id": "8AY59raEfarA",
        "outputId": "317f3f34-5d41-43c2-97bd-f5045f58c571",
        "colab": {
          "base_uri": "https://localhost:8080/",
          "height": 50
        }
      },
      "source": [
        "print(stemmer.stem(\"played\"))\n",
        "print(stemmer.stem(\"plays\"))"
      ],
      "execution_count": null,
      "outputs": [
        {
          "output_type": "stream",
          "text": [
            "play\n",
            "play\n"
          ],
          "name": "stdout"
        }
      ]
    },
    {
      "cell_type": "code",
      "metadata": {
        "id": "MBkTqAoEfhyx",
        "outputId": "029637bc-b732-439e-d20a-6feeffeb394c",
        "colab": {
          "base_uri": "https://localhost:8080/",
          "height": 34
        }
      },
      "source": [
        "print(stemmer.stem(\"increases\"))#not in dictionary "
      ],
      "execution_count": null,
      "outputs": [
        {
          "output_type": "stream",
          "text": [
            "increas\n"
          ],
          "name": "stdout"
        }
      ]
    },
    {
      "cell_type": "code",
      "metadata": {
        "id": "hwdzZh8kfnmx",
        "outputId": "13d9dc5c-f1f3-4d31-ac82-fb31b9ae9d42",
        "colab": {
          "base_uri": "https://localhost:8080/",
          "height": 34
        }
      },
      "source": [
        "from nltk.stem import WordNetLemmatizer\n",
        "\n",
        "lem = WordNetLemmatizer()\n",
        "\n",
        "print(lem.lemmatize(\"increases\"))"
      ],
      "execution_count": null,
      "outputs": [
        {
          "output_type": "stream",
          "text": [
            "increase\n"
          ],
          "name": "stdout"
        }
      ]
    },
    {
      "cell_type": "code",
      "metadata": {
        "id": "TfOKpbs_gCjB",
        "outputId": "bfb75d4a-c572-4abb-de55-6a3f3a4bb4ba",
        "colab": {
          "base_uri": "https://localhost:8080/",
          "height": 319
        }
      },
      "source": [
        "##Part of speech tag\n",
        "from nltk import pos_tag\n",
        "text = text\n",
        "\n",
        "tokens = word_tokenize(text)\n",
        "pos_tag(tokens)"
      ],
      "execution_count": null,
      "outputs": [
        {
          "output_type": "execute_result",
          "data": {
            "text/plain": [
              "[('Hi', 'NNP'),\n",
              " ('Ritesh', 'NNP'),\n",
              " (',', ','),\n",
              " ('How', 'NNP'),\n",
              " ('are', 'VBP'),\n",
              " ('you', 'PRP'),\n",
              " ('doing', 'VBG'),\n",
              " ('?', '.'),\n",
              " ('I', 'PRP'),\n",
              " ('will', 'MD'),\n",
              " ('be', 'VB'),\n",
              " ('travelling', 'VBG'),\n",
              " ('to', 'TO'),\n",
              " ('your', 'PRP$'),\n",
              " ('city', 'NN'),\n",
              " ('.', '.'),\n",
              " ('Lets', 'VBZ'),\n",
              " ('catchup', 'JJ')]"
            ]
          },
          "metadata": {
            "tags": []
          },
          "execution_count": 11
        }
      ]
    },
    {
      "cell_type": "code",
      "metadata": {
        "id": "BJKfVvB2g6lz",
        "outputId": "f4fd383a-0a69-41cc-cfe4-176bc56c9d96",
        "colab": {
          "base_uri": "https://localhost:8080/",
          "height": 470
        }
      },
      "source": [
        "from nltk.corpus import wordnet\n",
        "\n",
        "wordnet.synsets('good')"
      ],
      "execution_count": null,
      "outputs": [
        {
          "output_type": "execute_result",
          "data": {
            "text/plain": [
              "[Synset('good.n.01'),\n",
              " Synset('good.n.02'),\n",
              " Synset('good.n.03'),\n",
              " Synset('commodity.n.01'),\n",
              " Synset('good.a.01'),\n",
              " Synset('full.s.06'),\n",
              " Synset('good.a.03'),\n",
              " Synset('estimable.s.02'),\n",
              " Synset('beneficial.s.01'),\n",
              " Synset('good.s.06'),\n",
              " Synset('good.s.07'),\n",
              " Synset('adept.s.01'),\n",
              " Synset('good.s.09'),\n",
              " Synset('dear.s.02'),\n",
              " Synset('dependable.s.04'),\n",
              " Synset('good.s.12'),\n",
              " Synset('good.s.13'),\n",
              " Synset('effective.s.04'),\n",
              " Synset('good.s.15'),\n",
              " Synset('good.s.16'),\n",
              " Synset('good.s.17'),\n",
              " Synset('good.s.18'),\n",
              " Synset('good.s.19'),\n",
              " Synset('good.s.20'),\n",
              " Synset('good.s.21'),\n",
              " Synset('well.r.01'),\n",
              " Synset('thoroughly.r.02')]"
            ]
          },
          "metadata": {
            "tags": []
          },
          "execution_count": 12
        }
      ]
    },
    {
      "cell_type": "code",
      "metadata": {
        "id": "42-sg-BfhXgQ",
        "outputId": "284eb2d0-2d98-4670-cc37-347b1df15c29",
        "colab": {
          "base_uri": "https://localhost:8080/",
          "height": 34
        }
      },
      "source": [
        "wordnet.synsets('computer')"
      ],
      "execution_count": null,
      "outputs": [
        {
          "output_type": "execute_result",
          "data": {
            "text/plain": [
              "[Synset('computer.n.01'), Synset('calculator.n.01')]"
            ]
          },
          "metadata": {
            "tags": []
          },
          "execution_count": 13
        }
      ]
    },
    {
      "cell_type": "code",
      "metadata": {
        "id": "fDzJz57XhfGg",
        "outputId": "19d4fc0a-4c13-4ede-fa5f-0b44d7a13ac5",
        "colab": {
          "base_uri": "https://localhost:8080/",
          "height": 218
        }
      },
      "source": [
        "from nltk import ngrams\n",
        "\n",
        "text=text\n",
        "\n",
        "n=7\n",
        "for gram in (ngrams(word_tokenize(text), n)):\n",
        "  print(gram)"
      ],
      "execution_count": null,
      "outputs": [
        {
          "output_type": "stream",
          "text": [
            "('Hi', 'Ritesh', ',', 'How', 'are', 'you', 'doing')\n",
            "('Ritesh', ',', 'How', 'are', 'you', 'doing', '?')\n",
            "(',', 'How', 'are', 'you', 'doing', '?', 'I')\n",
            "('How', 'are', 'you', 'doing', '?', 'I', 'will')\n",
            "('are', 'you', 'doing', '?', 'I', 'will', 'be')\n",
            "('you', 'doing', '?', 'I', 'will', 'be', 'travelling')\n",
            "('doing', '?', 'I', 'will', 'be', 'travelling', 'to')\n",
            "('?', 'I', 'will', 'be', 'travelling', 'to', 'your')\n",
            "('I', 'will', 'be', 'travelling', 'to', 'your', 'city')\n",
            "('will', 'be', 'travelling', 'to', 'your', 'city', '.')\n",
            "('be', 'travelling', 'to', 'your', 'city', '.', 'Lets')\n",
            "('travelling', 'to', 'your', 'city', '.', 'Lets', 'catchup')\n"
          ],
          "name": "stdout"
        }
      ]
    },
    {
      "cell_type": "code",
      "metadata": {
        "id": "6RhH2rHqhwvw"
      },
      "source": [
        ""
      ],
      "execution_count": null,
      "outputs": []
    }
  ]
}